{
 "cells": [
  {
   "cell_type": "markdown",
   "id": "3d291016",
   "metadata": {},
   "source": [
    "### 정규표현식(re)으로 데이터 전처리\n",
    "* 꼭 지우려는 것 - <br> 과 같은 HTML 코드, 특수문자, 기호 등\n",
    "* 살리고 싶은 것 - 한글 + 영어 + 숫자 + 띄어쓰기"
   ]
  },
  {
   "cell_type": "code",
   "execution_count": 1,
   "id": "94977271",
   "metadata": {},
   "outputs": [],
   "source": [
    "condition = '<.*?>|[^a-zA-Z가-힣0-9\\s]'\n",
    "\n",
    "###### 지울 것들\n",
    "# <.*?> : 괄호(<>)안에 .(모든문자)가 오는데, *?(하나이상) 오는 것 \n",
    "# | : 또는\n",
    "\n",
    "###### 지우면 안 되는 것들\n",
    "# [^a-zA-Z가-힣0-9\\s] : ^(=not) , 영어대소문자(a-zA-Z) + 한글(가-힣) + 숫자(0-9) + 띄어쓰기(\\s) "
   ]
  },
  {
   "cell_type": "code",
   "execution_count": 4,
   "id": "0ce1933f",
   "metadata": {},
   "outputs": [],
   "source": [
    "import re"
   ]
  },
  {
   "cell_type": "code",
   "execution_count": 6,
   "id": "f9ba57b9",
   "metadata": {},
   "outputs": [],
   "source": [
    "## 원래 데이터프레임은 남겨두고 복사\n",
    "df_n = df.copy()\n",
    "\n",
    "def data_cleaner(df):\n",
    "        \n",
    "    ## 전처리로 바꾸고싶은 칼럼\n",
    "    columns = ['introduction', 'to_do', 'need_to', 'preference']\n",
    "    \n",
    "    ## 조건\n",
    "    condition = '<.*?>|[^a-zA-Z가-힣0-9\\s]'  \n",
    "    \n",
    "    ## 각 칼럼에 대해서\n",
    "    for col in columns : \n",
    "        # 모든 값들을 바꿈\n",
    "        for i in range(len(df[col])):\n",
    "            df_n[col].iloc[i] =  re.sub(condition, ' ', df[col].iloc[i])\n",
    "    \n",
    "    # 결과물은 데이터 프레임 으로 \n",
    "    return df_n"
   ]
  }
 ],
 "metadata": {
  "kernelspec": {
   "display_name": "Python 3 (ipykernel)",
   "language": "python",
   "name": "python3"
  },
  "language_info": {
   "codemirror_mode": {
    "name": "ipython",
    "version": 3
   },
   "file_extension": ".py",
   "mimetype": "text/x-python",
   "name": "python",
   "nbconvert_exporter": "python",
   "pygments_lexer": "ipython3",
   "version": "3.9.12"
  }
 },
 "nbformat": 4,
 "nbformat_minor": 5
}
