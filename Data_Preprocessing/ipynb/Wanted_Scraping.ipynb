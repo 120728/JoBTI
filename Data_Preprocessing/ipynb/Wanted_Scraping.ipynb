{
 "cells": [
  {
   "cell_type": "markdown",
   "id": "0319eb0c",
   "metadata": {},
   "source": [
    "## 원티드 - 데이터 엔지니어\n",
    "* 데이터 엔지니어(job-card) -> 세부 페이지 들어가서 JD 스크래핑"
   ]
  },
  {
   "cell_type": "markdown",
   "id": "4f69781b",
   "metadata": {},
   "source": [
    "### 데이터 엔지니어(job-card) 데이터 가져오기"
   ]
  },
  {
   "cell_type": "code",
   "execution_count": 6,
   "id": "45039ee5",
   "metadata": {},
   "outputs": [],
   "source": [
    "# 원티드 - 데이터 엔지니어 > 응답률순 정렬\n",
    "url = 'https://www.wanted.co.kr/wdlist/518/655?country=kr&job_sort=company.response_rate_order&years=-1&locations=all'"
   ]
  },
  {
   "cell_type": "code",
   "execution_count": 7,
   "id": "cf778c6e",
   "metadata": {},
   "outputs": [],
   "source": [
    "import pandas as pd"
   ]
  },
  {
   "cell_type": "code",
   "execution_count": 9,
   "id": "09ee4c7d",
   "metadata": {},
   "outputs": [],
   "source": [
    "import time\n",
    "import requests\n",
    "from bs4 import BeautifulSoup\n",
    "from selenium import webdriver\n",
    "from selenium.webdriver.chrome.service import Service\n",
    "from webdriver_manager.chrome import ChromeDriverManager\n",
    "from selenium.webdriver.common.by import By\n",
    "from selenium.webdriver.common.keys import Keys\n",
    "\n",
    "\n",
    "chrome_options = webdriver.ChromeOptions()\n",
    "driver = webdriver.Chrome(service = Service(ChromeDriverManager().install()), options = chrome_options)\n",
    "\n",
    "driver.implicitly_wait(5)\n",
    "driver.get(url)\n",
    "\n",
    "last_height = driver.execute_script('return document.body.scrollHeight')\n",
    "\n",
    "while True:\n",
    "    driver.execute_script('window.scrollTo(0, document.body.scrollHeight)')\n",
    "    time.sleep(2)\n",
    "    new_height = driver.execute_script('return document.body.scrollHeight')\n",
    "    if new_height == last_height:\n",
    "        break\n",
    "    last_height = new_height\n",
    "\n",
    "###### 원티트 페이지\n",
    "###### 소스를 읽어 BeautifulSoup를 이용해 파싱    \n",
    "html = driver.page_source\n",
    "soup = BeautifulSoup(html, 'html.parser')\n",
    "container = soup.select('#__next > div.JobList_cn__t_THp > div > div > div.List_List_container__JnQMS > ul')\n",
    "#print(container[0].prettify())\n",
    "\n",
    "job_card = container[0].find_all('div', {'class': 'Card_className__u5rsb'})"
   ]
  },
  {
   "cell_type": "code",
   "execution_count": 10,
   "id": "65543130",
   "metadata": {},
   "outputs": [],
   "source": [
    "driver.quit()"
   ]
  },
  {
   "cell_type": "code",
   "execution_count": 11,
   "id": "bbd14e2f",
   "metadata": {},
   "outputs": [
    {
     "name": "stdout",
     "output_type": "stream",
     "text": [
      "/wd/83114\n",
      "티빙(TVING)\n",
      "DBA\n"
     ]
    }
   ],
   "source": [
    "# 채용정보 잘 나오는지 확인\n",
    "\n",
    "print(job_card[0].find('a')['href'])\n",
    "print(job_card[0].find('a')['data-company-name'])\n",
    "print(job_card[0].find('a')['data-position-name'])"
   ]
  },
  {
   "cell_type": "code",
   "execution_count": 12,
   "id": "18074b15",
   "metadata": {},
   "outputs": [
    {
     "name": "stdout",
     "output_type": "stream",
     "text": [
      "456\n"
     ]
    }
   ],
   "source": [
    "# 몇 개의 채용공고가 있나 확인\n",
    "print(len(job_card))"
   ]
  },
  {
   "cell_type": "code",
   "execution_count": 14,
   "id": "a35caa55",
   "metadata": {},
   "outputs": [],
   "source": [
    "## 데이터 엔지니어 관련 공고 가져오기( 회사명 - 직무명 -페이지주소 )\n",
    "job_lists = []\n",
    "for i in range(len(job_card)):\n",
    "    address = job_card[i].find('a')['href']\n",
    "    company_name = job_card[i].find('a')['data-company-name']\n",
    "    position = job_card[i].find('a')['data-position-name']\n",
    "    \n",
    "    ## 각 공고의 페이지 주소는 '/wd/1234' 이런식이니까 'www.wanted.co.kr'을 앞에 넣어주면\n",
    "    url2 = 'https://www.wanted.co.kr' + address\n",
    "    \n",
    "    job_lists.append([company_name, position, url2])"
   ]
  },
  {
   "cell_type": "code",
   "execution_count": 15,
   "id": "cf8e850a",
   "metadata": {},
   "outputs": [],
   "source": [
    "## 위의 결과를 데이터프레임으로 만듦\n",
    "df1 = pd.DataFrame(job_lists, columns = ['company', 'job','url'])\n",
    "\n",
    "# csv파일로 저장\n",
    "df1.to_csv('company.csv')"
   ]
  },
  {
   "cell_type": "markdown",
   "id": "9f036406",
   "metadata": {},
   "source": [
    "## 공고 세부 페이지 들어가서 JD 가져오기"
   ]
  },
  {
   "cell_type": "code",
   "execution_count": 16,
   "id": "b4f0f96f",
   "metadata": {},
   "outputs": [
    {
     "data": {
      "text/plain": [
       "0       https://www.wanted.co.kr/wd/83114\n",
       "1      https://www.wanted.co.kr/wd/130687\n",
       "2       https://www.wanted.co.kr/wd/94411\n",
       "3      https://www.wanted.co.kr/wd/100716\n",
       "4      https://www.wanted.co.kr/wd/121128\n",
       "                      ...                \n",
       "451    https://www.wanted.co.kr/wd/129036\n",
       "452    https://www.wanted.co.kr/wd/129540\n",
       "453    https://www.wanted.co.kr/wd/128333\n",
       "454    https://www.wanted.co.kr/wd/112350\n",
       "455     https://www.wanted.co.kr/wd/85840\n",
       "Name: url, Length: 456, dtype: object"
      ]
     },
     "execution_count": 16,
     "metadata": {},
     "output_type": "execute_result"
    }
   ],
   "source": [
    "job_urls = df1['url']\n",
    "job_urls"
   ]
  },
  {
   "cell_type": "code",
   "execution_count": 18,
   "id": "e1b51b13",
   "metadata": {
    "scrolled": true
   },
   "outputs": [
    {
     "data": {
      "text/html": [
       "<div>\n",
       "<style scoped>\n",
       "    .dataframe tbody tr th:only-of-type {\n",
       "        vertical-align: middle;\n",
       "    }\n",
       "\n",
       "    .dataframe tbody tr th {\n",
       "        vertical-align: top;\n",
       "    }\n",
       "\n",
       "    .dataframe thead th {\n",
       "        text-align: right;\n",
       "    }\n",
       "</style>\n",
       "<table border=\"1\" class=\"dataframe\">\n",
       "  <thead>\n",
       "    <tr style=\"text-align: right;\">\n",
       "      <th></th>\n",
       "      <th>company</th>\n",
       "      <th>to_do</th>\n",
       "      <th>need_to</th>\n",
       "      <th>preference</th>\n",
       "      <th>url</th>\n",
       "    </tr>\n",
       "  </thead>\n",
       "  <tbody>\n",
       "    <tr>\n",
       "      <th>0</th>\n",
       "      <td>OTT 서비스의 혁신을 리드하는 크리에이티브!&lt;br&gt;&lt;br&gt;No. 1 K-Conte...</td>\n",
       "      <td>- RDBMS/NoSQL 데이터베이스 운영 및 문제해결&lt;br&gt;- 데이터베이스 클러스...</td>\n",
       "      <td>- Open Source DB 구축/운영 경험, DBA 관련 경력 2년 이상을 보유...</td>\n",
       "      <td>- AWS Cloud 경험을 보유하신 분&lt;br&gt;- NoSQL 구축/운영 및 NoSQ...</td>\n",
       "      <td>https://www.wanted.co.kr/wd/83114</td>\n",
       "    </tr>\n",
       "    <tr>\n",
       "      <th>1</th>\n",
       "      <td>IT 비즈니스 혁신을 선도하는 AI 스타트업, 아인시스에이아이랩(이하 에이아이랩) ...</td>\n",
       "      <td>• 데이터 분석을 위한 알고리즘 및 개발 방향과 범위를 산정해요&lt;br&gt;• 데이터 수...</td>\n",
       "      <td>• 이공계 졸업(예정자) 혹은 관련 경력을 보유하신 분&lt;br&gt;• 네트워크 애플리케이...</td>\n",
       "      <td>• 스타트업 업무경험이 있으신 분&lt;br&gt;• Rust 개발 경험이 있으신 분&lt;br&gt;•...</td>\n",
       "      <td>https://www.wanted.co.kr/wd/130687</td>\n",
       "    </tr>\n",
       "    <tr>\n",
       "      <th>2</th>\n",
       "      <td>[회사 소개]&lt;br&gt;이제이엔은 트위치 후원 오버레이 플랫폼 '트윕(TWIP)'과 트...</td>\n",
       "      <td>담당업무&lt;br&gt;• 데이터 관련 모든 기술적 요소 담당&lt;br&gt;• Kafka, kube...</td>\n",
       "      <td>• Data Engineer 경력 3년 이상 또는 그에 준하는 경력을 보유하신 분&lt;...</td>\n",
       "      <td>• 커뮤니케이션 능력이 우수하신 분&lt;br&gt;• 영어 논문을 보고 기술 재현이 가능하신...</td>\n",
       "      <td>https://www.wanted.co.kr/wd/94411</td>\n",
       "    </tr>\n",
       "  </tbody>\n",
       "</table>\n",
       "</div>"
      ],
      "text/plain": [
       "                                             company  \\\n",
       "0  OTT 서비스의 혁신을 리드하는 크리에이티브!<br><br>No. 1 K-Conte...   \n",
       "1  IT 비즈니스 혁신을 선도하는 AI 스타트업, 아인시스에이아이랩(이하 에이아이랩) ...   \n",
       "2  [회사 소개]<br>이제이엔은 트위치 후원 오버레이 플랫폼 '트윕(TWIP)'과 트...   \n",
       "\n",
       "                                               to_do  \\\n",
       "0  - RDBMS/NoSQL 데이터베이스 운영 및 문제해결<br>- 데이터베이스 클러스...   \n",
       "1  • 데이터 분석을 위한 알고리즘 및 개발 방향과 범위를 산정해요<br>• 데이터 수...   \n",
       "2  담당업무<br>• 데이터 관련 모든 기술적 요소 담당<br>• Kafka, kube...   \n",
       "\n",
       "                                             need_to  \\\n",
       "0  - Open Source DB 구축/운영 경험, DBA 관련 경력 2년 이상을 보유...   \n",
       "1  • 이공계 졸업(예정자) 혹은 관련 경력을 보유하신 분<br>• 네트워크 애플리케이...   \n",
       "2  • Data Engineer 경력 3년 이상 또는 그에 준하는 경력을 보유하신 분<...   \n",
       "\n",
       "                                          preference  \\\n",
       "0  - AWS Cloud 경험을 보유하신 분<br>- NoSQL 구축/운영 및 NoSQ...   \n",
       "1  • 스타트업 업무경험이 있으신 분<br>• Rust 개발 경험이 있으신 분<br>•...   \n",
       "2  • 커뮤니케이션 능력이 우수하신 분<br>• 영어 논문을 보고 기술 재현이 가능하신...   \n",
       "\n",
       "                                  url  \n",
       "0   https://www.wanted.co.kr/wd/83114  \n",
       "1  https://www.wanted.co.kr/wd/130687  \n",
       "2   https://www.wanted.co.kr/wd/94411  "
      ]
     },
     "execution_count": 18,
     "metadata": {},
     "output_type": "execute_result"
    }
   ],
   "source": [
    "###### 채용 공고 주소를 하나씩 가져와서 [회사명, 주요업무, 자격요건, 우대사항] 정리\n",
    "results = []\n",
    "\n",
    "for i in range(len(job_urls)):\n",
    "\n",
    "    url2 = job_urls[i] \n",
    "    \n",
    "    ## 셀레니엄\n",
    "    chrome_options = webdriver.ChromeOptions()\n",
    "    driver = webdriver.Chrome(service = Service(ChromeDriverManager().install()), options = chrome_options)\n",
    "\n",
    "    driver.implicitly_wait(0.1)\n",
    "    driver.get(url2)\n",
    "    \n",
    "    #### 채용공고에 해당되는 박스의 클래스 가져오고 \n",
    "    jd_box = driver.find_element(By.CLASS_NAME,'JobContent_descriptionWrapper__SM4UD' )\n",
    "\n",
    "    ## 작성내용은 태그 p로 되어 있으니까 \n",
    "    contents = jd_box.find_elements(By.TAG_NAME, 'p')\n",
    "        \n",
    "    ## 해당 내용들을 정리하면\n",
    "    company_pr = contents[0]    # 회사명\n",
    "    to_do = contents[1]    #주요업무\n",
    "    need_to = contents[2]   #자격요건\n",
    "    prefer = contents[3]   #우대사항 \n",
    "    \n",
    "    ## 회사소개\n",
    "    value = company_pr.find_element(By.TAG_NAME, 'span')\n",
    "    content_company_pr = value.get_attribute('innerHTML')\n",
    "\n",
    "    ## 주요업무\n",
    "    value = to_do.find_element(By.TAG_NAME, 'span')\n",
    "    content_to_do = value.get_attribute('innerHTML')\n",
    "\n",
    "    ## 자격요건\n",
    "    value = need_to.find_element(By.TAG_NAME, 'span')\n",
    "    content_need_to = value.get_attribute('innerHTML')\n",
    "\n",
    "    ## 우대사항\n",
    "    value = prefer.find_element(By.TAG_NAME, 'span')\n",
    "    content_prefer = value.get_attribute('innerHTML')\n",
    "\n",
    "    ## 전부다 불러와서 행으로 들어갈 데이터 만듦\n",
    "    results.append([content_company_pr,content_to_do,content_need_to, content_prefer, url2])\n",
    "    \n",
    "    driver.quit()\n",
    "\n",
    "## 데이터 프레임 만들기    \n",
    "df2 = pd.DataFrame(results, columns =['company', 'to_do', 'need_to', 'preference', 'url'])\n",
    "df2"
   ]
  },
  {
   "cell_type": "code",
   "execution_count": 31,
   "id": "d2aee53e",
   "metadata": {},
   "outputs": [],
   "source": [
    "df2.to_excel('wanted_DE.xlsx', index=False)"
   ]
  }
 ],
 "metadata": {
  "kernelspec": {
   "display_name": "Python 3 (ipykernel)",
   "language": "python",
   "name": "python3"
  },
  "language_info": {
   "codemirror_mode": {
    "name": "ipython",
    "version": 3
   },
   "file_extension": ".py",
   "mimetype": "text/x-python",
   "name": "python",
   "nbconvert_exporter": "python",
   "pygments_lexer": "ipython3",
   "version": "3.9.12"
  }
 },
 "nbformat": 4,
 "nbformat_minor": 5
}
